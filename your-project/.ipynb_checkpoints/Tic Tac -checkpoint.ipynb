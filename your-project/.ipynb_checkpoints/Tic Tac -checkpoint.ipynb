{
 "cells": [
  {
   "cell_type": "code",
   "execution_count": 15,
   "metadata": {},
   "outputs": [
    {
     "data": {
      "text/plain": [
       "{1: '-', 2: '-', 3: '-', 4: '-', 5: '-', 6: '-', 7: '-', 8: '-', 9: '-'}"
      ]
     },
     "execution_count": 15,
     "metadata": {},
     "output_type": "execute_result"
    }
   ],
   "source": [
    "sel_dic"
   ]
  },
  {
   "cell_type": "code",
   "execution_count": 16,
   "metadata": {},
   "outputs": [],
   "source": [
    "dic1 = {1: '-', 2: '-', 3: '-', 4: '-', 5: '-', 6: '-', 7: '-', 8: '-', 9: '-'}\n",
    "\n",
    "del dic1[1]"
   ]
  },
  {
   "cell_type": "code",
   "execution_count": 17,
   "metadata": {},
   "outputs": [
    {
     "data": {
      "text/plain": [
       "{2: '-', 3: '-', 4: '-', 5: '-', 6: '-', 7: '-', 8: '-', 9: '-'}"
      ]
     },
     "execution_count": 17,
     "metadata": {},
     "output_type": "execute_result"
    }
   ],
   "source": [
    "dic1"
   ]
  },
  {
   "cell_type": "code",
   "execution_count": null,
   "metadata": {},
   "outputs": [
    {
     "name": "stdout",
     "output_type": "stream",
     "text": [
      "\n",
      "\n",
      "Welcome to the Tic Tac Toe Game!\n",
      "\n",
      "First, There will be a random draw to decide who goes first: User or Computer.\n",
      "User is Player 1. User goes first!\n",
      "\n",
      " | 1 | 2 | 3 | \n",
      " | 4 | 5 | 6 | \n",
      " | 7 | 8 | 9 | \n",
      "\n",
      "Above you can see the positions you may choose to select your move. Good Luck!\n",
      "\n",
      " | - | - | - | \n",
      " | - | - | - | \n",
      " | - | - | - | \n",
      "User, choose a number between 1-9 to select the spot you want to mark: 1\n",
      "Invalid number, try with another one\n",
      "Invalid number, try with another one\n",
      "Invalid number, try with another one\n",
      "Invalid number, try with another one\n",
      "Invalid number, try with another one\n",
      "Invalid number, try with another one\n",
      "Invalid number, try with another one\n",
      "Invalid number, try with another one\n",
      "User, choose a number between 1-9 to select the spot you want to mark: 2\n",
      "Invalid number, try with another one\n",
      "Invalid number, try with another one\n",
      "Invalid number, try with another one\n",
      "Invalid number, try with another one\n",
      "Invalid number, try with another one\n",
      "Invalid number, try with another one\n",
      "Invalid number, try with another one\n",
      "User, choose a number between 1-9 to select the spot you want to mark: 3\n",
      "Invalid number, try with another one\n",
      "Invalid number, try with another one\n",
      "Invalid number, try with another one\n",
      "Invalid number, try with another one\n",
      "Invalid number, try with another one\n",
      "Invalid number, try with another one\n",
      "User, choose a number between 1-9 to select the spot you want to mark: 4\n",
      "Invalid number, try with another one\n",
      "Invalid number, try with another one\n",
      "Invalid number, try with another one\n",
      "Invalid number, try with another one\n",
      "Invalid number, try with another one\n",
      "User, choose a number between 1-9 to select the spot you want to mark: 45\n",
      "Invalid number, try with another one\n",
      "Invalid number, try with another one\n",
      "Invalid number, try with another one\n",
      "Invalid number, try with another one\n",
      "Invalid number, try with another one\n",
      "User, choose a number between 1-9 to select the spot you want to mark: 6\n",
      "Invalid number, try with another one\n",
      "Invalid number, try with another one\n",
      "Invalid number, try with another one\n",
      "Invalid number, try with another one\n"
     ]
    }
   ],
   "source": [
    "#Tic Tac Toe Game\n",
    "import random\n",
    "print(\"\\n\")\n",
    "print(\"Welcome to the Tic Tac Toe Game!\\n\")\n",
    "print(\"First, There will be a random draw to decide who goes first: User or Computer.\")\n",
    "player_selection=[1,2]\n",
    "random_num=random.choice(player_selection)\n",
    "if random_num == 1:\n",
    "    print(\"User is Player 1. User goes first!\\n\")\n",
    "    user_turn=\"X\"\n",
    "    cpu_turn=\"O\"\n",
    "else:\n",
    "    print(\"User is Player 2. Computer goes first!\\n\")\n",
    "    user_turn=\"O\"\n",
    "    cpu_turn=\"X\"\n",
    "\n",
    "board_list=[\"-\",\"-\",\"-\",\n",
    "       \"-\",\"-\",\"-\",\n",
    "       \"-\",\"-\",\"-\"]\n",
    "\n",
    "winning_combo=[[0,1,2], [3,4,5], [6,7,8], [0,3,6], [1,4,7], [2,5,8], [2,4,6], [0,4,8]]\n",
    "\n",
    "\n",
    "print(\" | \" + \"1\" + \" | \" + \"2\" + \" | \" + \"3\" + \" | \")\n",
    "print(\" | \" + \"4\" + \" | \" + \"5\" + \" | \" + \"6\" + \" | \")\n",
    "print(\" | \" + \"7\" + \" | \" + \"8\" + \" | \" + \"9\" + \" | \\n\")\n",
    "print(\"Above you can see the positions you may choose to select your move. Good Luck!\\n\")\n",
    "\n",
    "sel_dic={1:board_list[0],2:board_list[1],3:board_list[2],4:board_list[3],5:board_list[4],6:board_list[5],7:board_list[6],8:board_list[7],9:board_list[8]}\n",
    "\n",
    "uc_score=[]\n",
    "cc_score=[]\n",
    "def board():\n",
    "    print(\" | \" + board_list[0] + \" | \" + board_list[1] + \" | \" + board_list[2] + \" | \")\n",
    "    print(\" | \" + board_list[3] + \" | \" + board_list[4] + \" | \" + board_list[5] + \" | \")\n",
    "    print(\" | \" + board_list[6] + \" | \" + board_list[7] + \" | \" + board_list[8] + \" | \")\n",
    "\n",
    "\n",
    "def game():\n",
    "    #First thing is to show the board where the game will be played\n",
    "    board()\n",
    "    maximum_rounds = 9\n",
    "    global sel_dic\n",
    "    while maximum_rounds > 0:\n",
    "        maximum_rounds=maximum_rounds-1\n",
    "        if random_num == 1:\n",
    "            uc=int(input(\"User, choose a number between 1-9 to select the spot you want to mark: \"))\n",
    "            for i in list(sel_dic.keys()):\n",
    "                if uc == i:\n",
    "                    uc_score.append(uc)\n",
    "                    sel_dic[i] == user_turn \n",
    "                    del sel_dic[i]\n",
    "                else:\n",
    "                    print(\"Invalid number, try with another one\")\n",
    "             \n",
    "        else:\n",
    "            cc=random.choice(list(sel_dic.keys()))\n",
    "            print(\"Computer choose\",cc)\n",
    "            for i in list(sel_dic.keys()):\n",
    "                cc_score.append(cc)\n",
    "                sel_dic[i] == cpu_turn \n",
    "                del sel_dic[i]\n",
    "    \n",
    "        if uc_score in winning_combo:\n",
    "            print(\"User Wins\")\n",
    "            break\n",
    "        elif cc_score in winning_combo:\n",
    "            print(\"computer wins\")\n",
    "            break\n",
    "        else:\n",
    "            continue\n",
    "\n",
    "\n",
    "\n",
    "game()\n"
   ]
  },
  {
   "cell_type": "code",
   "execution_count": null,
   "metadata": {},
   "outputs": [],
   "source": []
  },
  {
   "cell_type": "code",
   "execution_count": null,
   "metadata": {},
   "outputs": [],
   "source": []
  }
 ],
 "metadata": {
  "kernelspec": {
   "display_name": "Python 3",
   "language": "python",
   "name": "python3"
  }
 },
 "nbformat": 4,
 "nbformat_minor": 2
}
